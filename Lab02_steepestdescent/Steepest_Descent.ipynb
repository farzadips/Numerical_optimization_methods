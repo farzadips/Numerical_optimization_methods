{
 "cells": [
  {
   "cell_type": "code",
   "execution_count": 16,
   "source": [
    "import numpy\r\n",
    "\r\n",
    "def find_step_length(f, fd, x, alpha, direction, c2):\r\n",
    "  g = lambda alpha: f(x+alpha*direction)\r\n",
    "  gd = lambda alpha: numpy.dot(fd(x + alpha*direction), direction)\r\n",
    "  return interpolation(g, gd, alpha, c2)\r\n",
    "\r\n",
    "def wolf1(f, fd, alpha):\r\n",
    "  c1 = 1e-4\r\n",
    "  return f(alpha) <= f(0) + c1*alpha*fd(alpha)\r\n",
    "\r\n",
    "def wolf_strong(f, fd, alpha, c2):\r\n",
    "  return abs(fd(alpha)) <= -c2*fd(0)\r\n",
    "\r\n",
    "def simple_backtracking(f, fd, alpha, c2):\r\n",
    "  rate = 0.5\r\n",
    "  while not (wolf1(f, fd, alpha) or wolf_strong(f, fd, alpha, c2)):\r\n",
    "    alpha = rate*alpha\r\n",
    "  return alpha\r\n",
    "\r\n",
    "def interpolation(f, fd, alpha, c2):\r\n",
    "  lo = 0.0\r\n",
    "  hi = 1.0\r\n",
    "    \r\n",
    "  for i in range(0, 20):\r\n",
    "    if wolf1(f, fd, alpha):\r\n",
    "      if wolf_strong(f, fd, alpha, c2):\r\n",
    "        return alpha\r\n",
    "    \r\n",
    "    half = (lo+hi)/2.0\r\n",
    "    alpha = - (fd(lo)*hi*hi) / (2*(f(hi)-f(lo)-fd(lo)*hi))\r\n",
    "    \r\n",
    "    if alpha < lo or alpha > hi: # quadratic interpolation failed. reduce by half instead\r\n",
    "      alpha = half\r\n",
    "    if fd(alpha) > 0:\r\n",
    "      hi = alpha\r\n",
    "    elif fd(alpha) <= 0:\r\n",
    "      lo = alpha\r\n",
    "  return alpha"
   ],
   "outputs": [],
   "metadata": {}
  },
  {
   "cell_type": "code",
   "execution_count": 18,
   "source": [
    "from numpy import *\r\n",
    "\r\n",
    "\r\n",
    "def steepest_descent(x, f, fd, alpha, max_iterations,  precision, callback):\r\n",
    "  for i in range(0, max_iterations):\r\n",
    "    direction = - fd(x)\r\n",
    "    #alpha = find_step_length(f, fd, x, 1.0, direction, c2=0.9) #we can find step length but in this lab we have it\r\n",
    "    x = x + alpha*direction\r\n",
    "    callback(i, direction, alpha, x)\r\n",
    "    if linalg.norm(direction) < precision:\r\n",
    "      break\r\n",
    "  return x"
   ],
   "outputs": [],
   "metadata": {}
  },
  {
   "cell_type": "code",
   "execution_count": null,
   "source": [],
   "outputs": [],
   "metadata": {}
  }
 ],
 "metadata": {
  "orig_nbformat": 4,
  "language_info": {
   "name": "python",
   "version": "3.9.7",
   "mimetype": "text/x-python",
   "codemirror_mode": {
    "name": "ipython",
    "version": 3
   },
   "pygments_lexer": "ipython3",
   "nbconvert_exporter": "python",
   "file_extension": ".py"
  },
  "kernelspec": {
   "name": "python3",
   "display_name": "Python 3.9.7 64-bit"
  },
  "interpreter": {
   "hash": "ad4a7f633457edeca986db117c49439398b3575b7cfc8b89bb9541a12d05f016"
  }
 },
 "nbformat": 4,
 "nbformat_minor": 2
}