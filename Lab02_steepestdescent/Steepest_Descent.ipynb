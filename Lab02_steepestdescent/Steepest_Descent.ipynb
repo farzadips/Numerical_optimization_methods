{
 "cells": [
  {
   "cell_type": "code",
   "execution_count": 7,
   "source": [
    "def section_for_line_search(func, a0, b0, epsilon):\r\n",
    "    \"\"\"\r\n",
    "    :param func: [function]\r\n",
    "    :param a0: [int/float] \r\n",
    "    :param b0: [int/float] \r\n",
    "    :param epsilon: [int/float] \r\n",
    "    \"\"\"\r\n",
    "    a1, b1 = a0 + 0.382 * (b0 - a0), b0 - 0.382 * (b0 - a0)\r\n",
    "    fa, fb = func(a1), func(b1)\r\n",
    "\r\n",
    "    while b1 - a1 > epsilon:\r\n",
    "        if fa <= fb:\r\n",
    "            b0, b1, fb = b1, a1, fa\r\n",
    "            a1 = a0 + 0.382 * (b0 - a0)\r\n",
    "            fa = func(a1)\r\n",
    "        else:\r\n",
    "            a0, a1, fa = a1, b1, fb\r\n",
    "            b1 = b0 - 0.382 * (b0 - a0)\r\n",
    "            fb = func(b1)\r\n",
    "\r\n",
    "    return (a1 + b1) / 2"
   ],
   "outputs": [],
   "metadata": {}
  },
  {
   "cell_type": "code",
   "execution_count": null,
   "source": [],
   "outputs": [],
   "metadata": {}
  }
 ],
 "metadata": {
  "orig_nbformat": 4,
  "language_info": {
   "name": "python",
   "version": "3.9.7",
   "mimetype": "text/x-python",
   "codemirror_mode": {
    "name": "ipython",
    "version": 3
   },
   "pygments_lexer": "ipython3",
   "nbconvert_exporter": "python",
   "file_extension": ".py"
  },
  "kernelspec": {
   "name": "python3",
   "display_name": "Python 3.9.7 64-bit"
  },
  "interpreter": {
   "hash": "ad4a7f633457edeca986db117c49439398b3575b7cfc8b89bb9541a12d05f016"
  }
 },
 "nbformat": 4,
 "nbformat_minor": 2
}